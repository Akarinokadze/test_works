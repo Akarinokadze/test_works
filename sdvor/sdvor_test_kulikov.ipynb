{
 "cells": [
  {
   "cell_type": "markdown",
   "id": "2a3c2702",
   "metadata": {},
   "source": [
    "# Тестовое задание Строительный Двор"
   ]
  },
  {
   "cell_type": "markdown",
   "id": "710e337d",
   "metadata": {},
   "source": [
    "### Формулировка задачи\n",
    "\n",
    "Дана выгрузка заказов с позициями.\n",
    "\n",
    "  * Определить товары-\"якоря\"(основные) и дополнительные товары(сопутствующие).\n",
    "\n",
    "  * Формат результата:\n",
    "\n",
    "    * список основных и сопутствующих товаров по всей выборке;\n",
    "\n",
    "    * список основных и сопутствующих товаров по каждому городу.\n",
    "    \n",
    "Данные даны как есть, без дополнительных пояснений. Интересны гипотезы, в рамках которых будет предложено решение.\n",
    "\n",
    "### Гипотезы и допущения\n",
    "\n",
    "Под основным товаром будем понимать первичные товары за которыми покупатель пришёл в магазин, основная цель, без которой посещение магазина станет, скорее всего, неоправданным. Для магазина такие товары предоставляют основную мотивацию для посещения клиентами, а также, значительную часть дохода.\n",
    "\n",
    "  * Можно предположить, что основными товарами будут являться те, что чаще других встречаются как отдельные покупки (исходя из предположения что человек зашёл за конкретной вещью и взял только её), тем не менее, возможны ситуации когда покупатель проходил мимо магазина и зашёл за небольшим товаром явно сопутствующего характера (например, кончились диски для УШМ, по дороге зашёл и докупил). Данное предположение сильно зависит от возможности покупателя зайти в магазин дополнительно к другим целям, так, магазины формата отдельностоящего гипермаркета хорошо подходят под эту теорию (вряд ли клиент поедет в такой магазин только за сопутствующим товаром). Формат же супермаркета в комплексе с другими типами магазинов будут наоборот, способствовать таким спонтанным небольшим покупкам \"по пути\". Поскольку наши данные обезличены и мы не знаем типы магазинов, предположение о принадлежности к основным или дополнительным для чеков с 1 товаром будет неоправданным допущением.\n",
    "  * Можно ожидать что основной товар будет иметь максимальную стоимость в чеке из нескольких позиций, т.к. это является прямым следствием заложенной в определение бизнес-логики. Для отбора основных товаров проанализируем чеки с более чем одной позицией и отберём из них самые дорогие товары.\n",
    "  * Если возникнет необходимость сузить каталог основных товаров, можно будет дополнить условие отбора частотой с которой встречаются товары в чеках и/или стоимостным критерием.\n",
    "\n",
    "Под сопутствующими товарами будем понимать товары которые не являются первичной целью похода в магазин, но могут быть комплиментарными к основному товару, дополнять его свойства, или быть необходимыми в процессе эксплуатации основного товара.\n",
    "\n",
    "  * Предполагаемыми характеристиками являются небольшая цена (при высокой цене основного товара покупатель не будет испытывать угрызения о излишне потраченных средствах), относительно основного товара, наличие в разных комбинациях в чеках с основными товарами (частота появления в чеках).\n",
    "\n",
    "### N.B.\n",
    "\n",
    "В качестве метода решения данной задачи можно было бы попробовать создать корпус из чеков и пропустить его через CountVectorizer, добавить к векторам цены товаров и попробовать кластеризовать получившиеся данные. Поскольку у нас нет в наличии меток классов мерой успешности разделения можно было бы считать логическую обоснованность деления конкретных товаров на основные и сопутствующие, а также меру близости товаров внутри кластеров по характеристикам. Однако, предоставленная информация обезличенна и у нас нет в наличии каких-либо характеристик товаров, кроме цены и вхождения в различные чеки для оценки адекватности разбиения по кластерам. В связи с этим был исследован представленный ниже эвристический подход."
   ]
  },
  {
   "cell_type": "markdown",
   "id": "09a8399e",
   "metadata": {},
   "source": [
    "## EDA"
   ]
  },
  {
   "cell_type": "markdown",
   "id": "becb5754",
   "metadata": {},
   "source": [
    "Импортируем библиотеки."
   ]
  },
  {
   "cell_type": "code",
   "execution_count": 1,
   "id": "d855e2e4",
   "metadata": {},
   "outputs": [],
   "source": [
    "from collections import Counter\n",
    "\n",
    "import numpy as np\n",
    "import matplotlib.pyplot as plt\n",
    "import pandas as pd\n",
    "from ydata_profiling import ProfileReport\n",
    "from statsmodels.tsa.seasonal import seasonal_decompose\n",
    "\n",
    "%matplotlib inline"
   ]
  },
  {
   "cell_type": "markdown",
   "id": "98df867c",
   "metadata": {},
   "source": [
    "Для удобства чтения данных будет отображать численные данные как целые числа."
   ]
  },
  {
   "cell_type": "code",
   "execution_count": 2,
   "id": "d24d3559",
   "metadata": {},
   "outputs": [],
   "source": [
    "pd.set_option('display.float_format', '{:0.3f}'.format)"
   ]
  },
  {
   "cell_type": "markdown",
   "id": "6ba195ce",
   "metadata": {},
   "source": [
    "Загрузим данные и сделаем первичный осмотр."
   ]
  },
  {
   "cell_type": "code",
   "execution_count": 3,
   "id": "596a3780",
   "metadata": {},
   "outputs": [],
   "source": [
    "df = pd.read_csv('test_orders_info.csv', sep=';')"
   ]
  },
  {
   "cell_type": "code",
   "execution_count": 4,
   "id": "bf61e33c",
   "metadata": {},
   "outputs": [
    {
     "data": {
      "text/html": [
       "<div>\n",
       "<style scoped>\n",
       "    .dataframe tbody tr th:only-of-type {\n",
       "        vertical-align: middle;\n",
       "    }\n",
       "\n",
       "    .dataframe tbody tr th {\n",
       "        vertical-align: top;\n",
       "    }\n",
       "\n",
       "    .dataframe thead th {\n",
       "        text-align: right;\n",
       "    }\n",
       "</style>\n",
       "<table border=\"1\" class=\"dataframe\">\n",
       "  <thead>\n",
       "    <tr style=\"text-align: right;\">\n",
       "      <th></th>\n",
       "      <th>order_date</th>\n",
       "      <th>org</th>\n",
       "      <th>order_id</th>\n",
       "      <th>material</th>\n",
       "      <th>inv_qty</th>\n",
       "      <th>rev</th>\n",
       "    </tr>\n",
       "  </thead>\n",
       "  <tbody>\n",
       "    <tr>\n",
       "      <th>0</th>\n",
       "      <td>20190801</td>\n",
       "      <td>1000</td>\n",
       "      <td>1009650752</td>\n",
       "      <td>3300030000</td>\n",
       "      <td>720.000</td>\n",
       "      <td>28080.000</td>\n",
       "    </tr>\n",
       "    <tr>\n",
       "      <th>1</th>\n",
       "      <td>20190801</td>\n",
       "      <td>1000</td>\n",
       "      <td>1009650752</td>\n",
       "      <td>7200859000</td>\n",
       "      <td>1.000</td>\n",
       "      <td>5037.000</td>\n",
       "    </tr>\n",
       "    <tr>\n",
       "      <th>2</th>\n",
       "      <td>20190801</td>\n",
       "      <td>1000</td>\n",
       "      <td>1009862550</td>\n",
       "      <td>7200859000</td>\n",
       "      <td>0.000</td>\n",
       "      <td>-2000.000</td>\n",
       "    </tr>\n",
       "    <tr>\n",
       "      <th>3</th>\n",
       "      <td>20190801</td>\n",
       "      <td>1000</td>\n",
       "      <td>1009924088</td>\n",
       "      <td>1500226000</td>\n",
       "      <td>864.000</td>\n",
       "      <td>165507.840</td>\n",
       "    </tr>\n",
       "    <tr>\n",
       "      <th>4</th>\n",
       "      <td>20190801</td>\n",
       "      <td>1000</td>\n",
       "      <td>1009924088</td>\n",
       "      <td>7200859000</td>\n",
       "      <td>2.000</td>\n",
       "      <td>24000.000</td>\n",
       "    </tr>\n",
       "  </tbody>\n",
       "</table>\n",
       "</div>"
      ],
      "text/plain": [
       "   order_date   org    order_id    material  inv_qty        rev\n",
       "0    20190801  1000  1009650752  3300030000  720.000  28080.000\n",
       "1    20190801  1000  1009650752  7200859000    1.000   5037.000\n",
       "2    20190801  1000  1009862550  7200859000    0.000  -2000.000\n",
       "3    20190801  1000  1009924088  1500226000  864.000 165507.840\n",
       "4    20190801  1000  1009924088  7200859000    2.000  24000.000"
      ]
     },
     "execution_count": 4,
     "metadata": {},
     "output_type": "execute_result"
    }
   ],
   "source": [
    "df.head()"
   ]
  },
  {
   "cell_type": "code",
   "execution_count": 5,
   "id": "72f5a0b6",
   "metadata": {},
   "outputs": [
    {
     "name": "stdout",
     "output_type": "stream",
     "text": [
      "<class 'pandas.core.frame.DataFrame'>\n",
      "RangeIndex: 6051891 entries, 0 to 6051890\n",
      "Data columns (total 6 columns):\n",
      " #   Column      Dtype  \n",
      "---  ------      -----  \n",
      " 0   order_date  int64  \n",
      " 1   org         int64  \n",
      " 2   order_id    int64  \n",
      " 3   material    int64  \n",
      " 4   inv_qty     float64\n",
      " 5   rev         float64\n",
      "dtypes: float64(2), int64(4)\n",
      "memory usage: 277.0 MB\n"
     ]
    }
   ],
   "source": [
    "df.info()"
   ]
  },
  {
   "cell_type": "code",
   "execution_count": 6,
   "id": "b44f1f56",
   "metadata": {},
   "outputs": [
    {
     "data": {
      "text/html": [
       "<div>\n",
       "<style scoped>\n",
       "    .dataframe tbody tr th:only-of-type {\n",
       "        vertical-align: middle;\n",
       "    }\n",
       "\n",
       "    .dataframe tbody tr th {\n",
       "        vertical-align: top;\n",
       "    }\n",
       "\n",
       "    .dataframe thead th {\n",
       "        text-align: right;\n",
       "    }\n",
       "</style>\n",
       "<table border=\"1\" class=\"dataframe\">\n",
       "  <thead>\n",
       "    <tr style=\"text-align: right;\">\n",
       "      <th></th>\n",
       "      <th>count</th>\n",
       "      <th>mean</th>\n",
       "      <th>std</th>\n",
       "      <th>min</th>\n",
       "      <th>25%</th>\n",
       "      <th>50%</th>\n",
       "      <th>75%</th>\n",
       "      <th>max</th>\n",
       "    </tr>\n",
       "  </thead>\n",
       "  <tbody>\n",
       "    <tr>\n",
       "      <th>order_date</th>\n",
       "      <td>6051891.000</td>\n",
       "      <td>20192157.707</td>\n",
       "      <td>3041.305</td>\n",
       "      <td>20190801.000</td>\n",
       "      <td>20190908.000</td>\n",
       "      <td>20191018.000</td>\n",
       "      <td>20191205.000</td>\n",
       "      <td>20200131.000</td>\n",
       "    </tr>\n",
       "    <tr>\n",
       "      <th>org</th>\n",
       "      <td>6051891.000</td>\n",
       "      <td>1630.195</td>\n",
       "      <td>970.699</td>\n",
       "      <td>1000.000</td>\n",
       "      <td>1000.000</td>\n",
       "      <td>1000.000</td>\n",
       "      <td>2000.000</td>\n",
       "      <td>7000.000</td>\n",
       "    </tr>\n",
       "    <tr>\n",
       "      <th>order_id</th>\n",
       "      <td>6051891.000</td>\n",
       "      <td>2033077454.170</td>\n",
       "      <td>19203388.819</td>\n",
       "      <td>1008984447.000</td>\n",
       "      <td>2032632352.500</td>\n",
       "      <td>2033448118.000</td>\n",
       "      <td>2034243915.000</td>\n",
       "      <td>2035018963.000</td>\n",
       "    </tr>\n",
       "    <tr>\n",
       "      <th>material</th>\n",
       "      <td>6051891.000</td>\n",
       "      <td>3463417765.006</td>\n",
       "      <td>2416475923.603</td>\n",
       "      <td>20000.000</td>\n",
       "      <td>1000644000.000</td>\n",
       "      <td>3400913001.000</td>\n",
       "      <td>5500865000.000</td>\n",
       "      <td>9900999009.000</td>\n",
       "    </tr>\n",
       "    <tr>\n",
       "      <th>inv_qty</th>\n",
       "      <td>6051891.000</td>\n",
       "      <td>7.572</td>\n",
       "      <td>97.717</td>\n",
       "      <td>-6120.000</td>\n",
       "      <td>1.000</td>\n",
       "      <td>1.000</td>\n",
       "      <td>2.000</td>\n",
       "      <td>40608.000</td>\n",
       "    </tr>\n",
       "    <tr>\n",
       "      <th>rev</th>\n",
       "      <td>6051891.000</td>\n",
       "      <td>643.135</td>\n",
       "      <td>3418.305</td>\n",
       "      <td>-237517.200</td>\n",
       "      <td>60.300</td>\n",
       "      <td>150.000</td>\n",
       "      <td>380.000</td>\n",
       "      <td>1508000.000</td>\n",
       "    </tr>\n",
       "  </tbody>\n",
       "</table>\n",
       "</div>"
      ],
      "text/plain": [
       "                 count           mean            std            min  \\\n",
       "order_date 6051891.000   20192157.707       3041.305   20190801.000   \n",
       "org        6051891.000       1630.195        970.699       1000.000   \n",
       "order_id   6051891.000 2033077454.170   19203388.819 1008984447.000   \n",
       "material   6051891.000 3463417765.006 2416475923.603      20000.000   \n",
       "inv_qty    6051891.000          7.572         97.717      -6120.000   \n",
       "rev        6051891.000        643.135       3418.305    -237517.200   \n",
       "\n",
       "                      25%            50%            75%            max  \n",
       "order_date   20190908.000   20191018.000   20191205.000   20200131.000  \n",
       "org              1000.000       1000.000       2000.000       7000.000  \n",
       "order_id   2032632352.500 2033448118.000 2034243915.000 2035018963.000  \n",
       "material   1000644000.000 3400913001.000 5500865000.000 9900999009.000  \n",
       "inv_qty             1.000          1.000          2.000      40608.000  \n",
       "rev                60.300        150.000        380.000    1508000.000  "
      ]
     },
     "execution_count": 6,
     "metadata": {},
     "output_type": "execute_result"
    }
   ],
   "source": [
    "df.describe().transpose()"
   ]
  },
  {
   "cell_type": "markdown",
   "id": "1d507b2a",
   "metadata": {},
   "source": [
    "Колонка `order_date`, очевидно, является датой заказа. Необходимо перевести в формат datetime.\n",
    "\n",
    "Можно предположить что колонка `org` является меткой магазина в котором была совершена покупка, лучше перевести в категориальный тип, чтобы числовая ординальность не внесла искажения в работу алгоритмов.\n",
    "\n",
    "Колонка `order_id`, предположительно, представляет собой уникальный 10ти значный id номер заказа/чека.\n",
    "\n",
    "Можно предположить, что колонка `material` представляет собой уникальный id товара.\n",
    "\n",
    "Колонка `inv_qty` может обозначать количество проданного товара. В данной колонке встречаются как целые (штуки), так и не целые (весовые товары) числа. Так же есть отрицательные значения, первичное предположение что они означают возврат товара, минус позволяет учесть возврат на складской запас. Необходимо уточнить в дальнейшём анализе.\n",
    "\n",
    "Колонка `rev` может быть сокращением от revenue (доход), и обозначать как стоимость продажи одной единицы товара, так и всей позиции в чеке, необходимо уточнить в дальнейшем. Также есть отрицательные числа, возможно возвраты.\n",
    "\n",
    "Пропусков в данных нет, проведём дополнительный анализ данных с помощью библиотеки `ydata_profile`."
   ]
  },
  {
   "cell_type": "code",
   "execution_count": 7,
   "id": "dd0c7ecb",
   "metadata": {},
   "outputs": [],
   "source": [
    "df['order_date'] = pd.to_datetime(df['order_date'].astype('str'))\n",
    "df['org'] = df['org'].astype('category')"
   ]
  },
  {
   "cell_type": "code",
   "execution_count": 8,
   "id": "5ba8c55f",
   "metadata": {},
   "outputs": [],
   "source": [
    "profile = ProfileReport(df, title='Pandas Profiling Report')"
   ]
  },
  {
   "cell_type": "code",
   "execution_count": 9,
   "id": "21efea93",
   "metadata": {},
   "outputs": [
    {
     "data": {
      "application/vnd.jupyter.widget-view+json": {
       "model_id": "6645d49c42334943bb3da20ab9a13bc6",
       "version_major": 2,
       "version_minor": 0
      },
      "text/plain": [
       "Summarize dataset:   0%|          | 0/5 [00:00<?, ?it/s]"
      ]
     },
     "metadata": {},
     "output_type": "display_data"
    },
    {
     "data": {
      "application/vnd.jupyter.widget-view+json": {
       "model_id": "d31615914eb546828c65ce85ac0b139e",
       "version_major": 2,
       "version_minor": 0
      },
      "text/plain": [
       "Generate report structure:   0%|          | 0/1 [00:00<?, ?it/s]"
      ]
     },
     "metadata": {},
     "output_type": "display_data"
    },
    {
     "data": {
      "application/vnd.jupyter.widget-view+json": {
       "model_id": "5fdf28bf745744299c9a2e600bdb7e57",
       "version_major": 2,
       "version_minor": 0
      },
      "text/plain": [
       "Render HTML:   0%|          | 0/1 [00:00<?, ?it/s]"
      ]
     },
     "metadata": {},
     "output_type": "display_data"
    },
    {
     "data": {
      "application/vnd.jupyter.widget-view+json": {
       "model_id": "1242c1fe695f437ea0da073c7f66ddac",
       "version_major": 2,
       "version_minor": 0
      },
      "text/plain": [
       "Export report to file:   0%|          | 0/1 [00:00<?, ?it/s]"
      ]
     },
     "metadata": {},
     "output_type": "display_data"
    }
   ],
   "source": [
    "profile.to_file('EDA_report.html')"
   ]
  },
  {
   "cell_type": "markdown",
   "id": "1d24d387",
   "metadata": {},
   "source": [
    "В полученном отчёте можно увидеть явную сезонность (зависимость продаж от даты), а также наличие средней корреляции между колонками `inv_qty` и `rev`, что может подтверждать наше предположение о том что цена указана не за единицу измерения, а за всю позицию целиком.\n",
    "\n",
    "Попробуем проанализирорвать подробнее сезонность продаж."
   ]
  },
  {
   "cell_type": "code",
   "execution_count": 10,
   "id": "c583ef7a",
   "metadata": {},
   "outputs": [
    {
     "data": {
      "text/plain": [
       "<Axes: xlabel='order_date'>"
      ]
     },
     "execution_count": 10,
     "metadata": {},
     "output_type": "execute_result"
    },
    {
     "data": {
      "image/png": "[encoded data removed]",
      "text/plain": [
       "<Figure size 1600x400 with 1 Axes>"
      ]
     },
     "metadata": {},
     "output_type": "display_data"
    }
   ],
   "source": [
    "data = df[['order_date', 'order_id']].groupby('order_date').count()\n",
    "plt.figure(figsize=(16, 4))\n",
    "data.plot(ax=plt.gca())"
   ]
  },
  {
   "cell_type": "markdown",
   "id": "340f3cf7",
   "metadata": {},
   "source": [
    "Виден общий нисходящий тренд, можно разложить на компоненты тренда, сезонных явлений и остатков."
   ]
  },
  {
   "cell_type": "code",
   "execution_count": 11,
   "id": "7abd699f",
   "metadata": {},
   "outputs": [
    {
     "data": {
      "image/png": "[encoded data removed]",
      "text/plain": [
       "<Figure size 1300x800 with 3 Axes>"
      ]
     },
     "metadata": {},
     "output_type": "display_data"
    }
   ],
   "source": [
    "decomposed = seasonal_decompose(data)\n",
    "\n",
    "plt.figure(figsize=(13, 8))\n",
    "plt.subplot(311)\n",
    "decomposed.trend.plot(ax=plt.gca())\n",
    "plt.title('Trend')\n",
    "plt.subplot(312)\n",
    "decomposed.seasonal.loc['2019-08-01':'2019-08-30'].plot(ax=plt.gca())\n",
    "plt.title('Seasonality')\n",
    "plt.subplot(313)\n",
    "decomposed.resid.plot(ax=plt.gca())\n",
    "plt.title('Residuals')\n",
    "plt.tight_layout()"
   ]
  },
  {
   "cell_type": "markdown",
   "id": "8fcb10ed",
   "metadata": {},
   "source": [
    "В остатках виден шум и резкое падение продаж на новый год.\n",
    "\n",
    "В тренде есть выраженное падение продаж, вероятно, связанное с окончанием сезона активного строительства.\n",
    "\n",
    "В сезонных колебаниях хорошо заметны пики продаж по субботам, провал по воскресеньям с постепенным возвращением в норму ко вторнику.\n",
    "\n",
    "Проанализируем отрицательные значения в колонках с количеством товаров и ценами."
   ]
  },
  {
   "cell_type": "code",
   "execution_count": 12,
   "id": "c4da277e",
   "metadata": {},
   "outputs": [
    {
     "data": {
      "text/html": [
       "<div>\n",
       "<style scoped>\n",
       "    .dataframe tbody tr th:only-of-type {\n",
       "        vertical-align: middle;\n",
       "    }\n",
       "\n",
       "    .dataframe tbody tr th {\n",
       "        vertical-align: top;\n",
       "    }\n",
       "\n",
       "    .dataframe thead th {\n",
       "        text-align: right;\n",
       "    }\n",
       "</style>\n",
       "<table border=\"1\" class=\"dataframe\">\n",
       "  <thead>\n",
       "    <tr style=\"text-align: right;\">\n",
       "      <th></th>\n",
       "      <th>count</th>\n",
       "      <th>mean</th>\n",
       "      <th>min</th>\n",
       "      <th>25%</th>\n",
       "      <th>50%</th>\n",
       "      <th>75%</th>\n",
       "      <th>max</th>\n",
       "      <th>std</th>\n",
       "    </tr>\n",
       "  </thead>\n",
       "  <tbody>\n",
       "    <tr>\n",
       "      <th>order_date</th>\n",
       "      <td>333</td>\n",
       "      <td>2019-10-08 01:39:27.567567616</td>\n",
       "      <td>2019-08-01 00:00:00</td>\n",
       "      <td>2019-09-01 00:00:00</td>\n",
       "      <td>2019-10-01 00:00:00</td>\n",
       "      <td>2019-12-01 00:00:00</td>\n",
       "      <td>2020-01-01 00:00:00</td>\n",
       "      <td>NaN</td>\n",
       "    </tr>\n",
       "    <tr>\n",
       "      <th>order_id</th>\n",
       "      <td>333.000</td>\n",
       "      <td>2001378158.345</td>\n",
       "      <td>1008992355.000</td>\n",
       "      <td>2031120696.000</td>\n",
       "      <td>2032068562.000</td>\n",
       "      <td>2033026696.000</td>\n",
       "      <td>2034862158.000</td>\n",
       "      <td>174715140.633</td>\n",
       "    </tr>\n",
       "    <tr>\n",
       "      <th>material</th>\n",
       "      <td>333.000</td>\n",
       "      <td>3482853745.240</td>\n",
       "      <td>273001.000</td>\n",
       "      <td>900314001.000</td>\n",
       "      <td>3200153000.000</td>\n",
       "      <td>5900817001.000</td>\n",
       "      <td>9100879001.000</td>\n",
       "      <td>2635559533.664</td>\n",
       "    </tr>\n",
       "    <tr>\n",
       "      <th>inv_qty</th>\n",
       "      <td>333.000</td>\n",
       "      <td>-41.992</td>\n",
       "      <td>-6120.000</td>\n",
       "      <td>-2.000</td>\n",
       "      <td>-0.178</td>\n",
       "      <td>0.000</td>\n",
       "      <td>0.000</td>\n",
       "      <td>364.976</td>\n",
       "    </tr>\n",
       "    <tr>\n",
       "      <th>rev</th>\n",
       "      <td>333.000</td>\n",
       "      <td>-4273.826</td>\n",
       "      <td>-237517.200</td>\n",
       "      <td>-1376.000</td>\n",
       "      <td>-164.000</td>\n",
       "      <td>1.670</td>\n",
       "      <td>22017.600</td>\n",
       "      <td>20097.880</td>\n",
       "    </tr>\n",
       "  </tbody>\n",
       "</table>\n",
       "</div>"
      ],
      "text/plain": [
       "             count                           mean                  min  \\\n",
       "order_date     333  2019-10-08 01:39:27.567567616  2019-08-01 00:00:00   \n",
       "order_id   333.000                 2001378158.345       1008992355.000   \n",
       "material   333.000                 3482853745.240           273001.000   \n",
       "inv_qty    333.000                        -41.992            -6120.000   \n",
       "rev        333.000                      -4273.826          -237517.200   \n",
       "\n",
       "                            25%                  50%                  75%  \\\n",
       "order_date  2019-09-01 00:00:00  2019-10-01 00:00:00  2019-12-01 00:00:00   \n",
       "order_id         2031120696.000       2032068562.000       2033026696.000   \n",
       "material          900314001.000       3200153000.000       5900817001.000   \n",
       "inv_qty                  -2.000               -0.178                0.000   \n",
       "rev                   -1376.000             -164.000                1.670   \n",
       "\n",
       "                            max            std  \n",
       "order_date  2020-01-01 00:00:00            NaN  \n",
       "order_id         2034862158.000  174715140.633  \n",
       "material         9100879001.000 2635559533.664  \n",
       "inv_qty                   0.000        364.976  \n",
       "rev                   22017.600      20097.880  "
      ]
     },
     "metadata": {},
     "output_type": "display_data"
    },
    {
     "data": {
      "text/html": [
       "<div>\n",
       "<style scoped>\n",
       "    .dataframe tbody tr th:only-of-type {\n",
       "        vertical-align: middle;\n",
       "    }\n",
       "\n",
       "    .dataframe tbody tr th {\n",
       "        vertical-align: top;\n",
       "    }\n",
       "\n",
       "    .dataframe thead th {\n",
       "        text-align: right;\n",
       "    }\n",
       "</style>\n",
       "<table border=\"1\" class=\"dataframe\">\n",
       "  <thead>\n",
       "    <tr style=\"text-align: right;\">\n",
       "      <th></th>\n",
       "      <th>order_date</th>\n",
       "      <th>org</th>\n",
       "      <th>order_id</th>\n",
       "      <th>material</th>\n",
       "      <th>inv_qty</th>\n",
       "      <th>rev</th>\n",
       "    </tr>\n",
       "  </thead>\n",
       "  <tbody>\n",
       "    <tr>\n",
       "      <th>2</th>\n",
       "      <td>2019-08-01</td>\n",
       "      <td>1000</td>\n",
       "      <td>1009862550</td>\n",
       "      <td>7200859000</td>\n",
       "      <td>0.000</td>\n",
       "      <td>-2000.000</td>\n",
       "    </tr>\n",
       "    <tr>\n",
       "      <th>62</th>\n",
       "      <td>2019-08-01</td>\n",
       "      <td>1000</td>\n",
       "      <td>2030503854</td>\n",
       "      <td>100596000</td>\n",
       "      <td>-5.000</td>\n",
       "      <td>-2145.000</td>\n",
       "    </tr>\n",
       "    <tr>\n",
       "      <th>63</th>\n",
       "      <td>2019-08-01</td>\n",
       "      <td>1000</td>\n",
       "      <td>2030503854</td>\n",
       "      <td>100629000</td>\n",
       "      <td>-2.000</td>\n",
       "      <td>-1190.000</td>\n",
       "    </tr>\n",
       "    <tr>\n",
       "      <th>64</th>\n",
       "      <td>2019-08-01</td>\n",
       "      <td>1000</td>\n",
       "      <td>2030503854</td>\n",
       "      <td>300313000</td>\n",
       "      <td>-3.000</td>\n",
       "      <td>-4395.000</td>\n",
       "    </tr>\n",
       "    <tr>\n",
       "      <th>65</th>\n",
       "      <td>2019-08-01</td>\n",
       "      <td>1000</td>\n",
       "      <td>2030503854</td>\n",
       "      <td>600968000</td>\n",
       "      <td>-10.000</td>\n",
       "      <td>-2840.000</td>\n",
       "    </tr>\n",
       "  </tbody>\n",
       "</table>\n",
       "</div>"
      ],
      "text/plain": [
       "   order_date   org    order_id    material  inv_qty       rev\n",
       "2  2019-08-01  1000  1009862550  7200859000    0.000 -2000.000\n",
       "62 2019-08-01  1000  2030503854   100596000   -5.000 -2145.000\n",
       "63 2019-08-01  1000  2030503854   100629000   -2.000 -1190.000\n",
       "64 2019-08-01  1000  2030503854   300313000   -3.000 -4395.000\n",
       "65 2019-08-01  1000  2030503854   600968000  -10.000 -2840.000"
      ]
     },
     "execution_count": 12,
     "metadata": {},
     "output_type": "execute_result"
    }
   ],
   "source": [
    "data = df.query('inv_qty <= 0 | rev < 0')\n",
    "display(data.describe().transpose())\n",
    "data.head()"
   ]
  },
  {
   "cell_type": "markdown",
   "id": "37c758ba",
   "metadata": {},
   "source": [
    "Всего 333 позиций, от 0 до -6120 по количеству и от 0 до -237517 по цене. Посмотрим на один из товаров в которых есть отрицательные значения."
   ]
  },
  {
   "cell_type": "code",
   "execution_count": 13,
   "id": "9153aea1",
   "metadata": {},
   "outputs": [
    {
     "data": {
      "text/html": [
       "<div>\n",
       "<style scoped>\n",
       "    .dataframe tbody tr th:only-of-type {\n",
       "        vertical-align: middle;\n",
       "    }\n",
       "\n",
       "    .dataframe tbody tr th {\n",
       "        vertical-align: top;\n",
       "    }\n",
       "\n",
       "    .dataframe thead th {\n",
       "        text-align: right;\n",
       "    }\n",
       "</style>\n",
       "<table border=\"1\" class=\"dataframe\">\n",
       "  <thead>\n",
       "    <tr style=\"text-align: right;\">\n",
       "      <th></th>\n",
       "      <th>count</th>\n",
       "      <th>mean</th>\n",
       "      <th>min</th>\n",
       "      <th>25%</th>\n",
       "      <th>50%</th>\n",
       "      <th>75%</th>\n",
       "      <th>max</th>\n",
       "      <th>std</th>\n",
       "    </tr>\n",
       "  </thead>\n",
       "  <tbody>\n",
       "    <tr>\n",
       "      <th>order_date</th>\n",
       "      <td>6266</td>\n",
       "      <td>2019-10-25 14:41:47.245451776</td>\n",
       "      <td>2019-08-01 00:00:00</td>\n",
       "      <td>2019-09-10 00:00:00</td>\n",
       "      <td>2019-10-24 00:00:00</td>\n",
       "      <td>2019-12-07 18:00:00</td>\n",
       "      <td>2020-01-31 00:00:00</td>\n",
       "      <td>NaN</td>\n",
       "    </tr>\n",
       "    <tr>\n",
       "      <th>order_id</th>\n",
       "      <td>6266.000</td>\n",
       "      <td>2033481666.114</td>\n",
       "      <td>2030503854.000</td>\n",
       "      <td>2032670610.000</td>\n",
       "      <td>2033551534.500</td>\n",
       "      <td>2034284473.000</td>\n",
       "      <td>2035018112.000</td>\n",
       "      <td>939013.079</td>\n",
       "    </tr>\n",
       "    <tr>\n",
       "      <th>material</th>\n",
       "      <td>6266.000</td>\n",
       "      <td>600968000.000</td>\n",
       "      <td>600968000.000</td>\n",
       "      <td>600968000.000</td>\n",
       "      <td>600968000.000</td>\n",
       "      <td>600968000.000</td>\n",
       "      <td>600968000.000</td>\n",
       "      <td>0.000</td>\n",
       "    </tr>\n",
       "    <tr>\n",
       "      <th>inv_qty</th>\n",
       "      <td>6266.000</td>\n",
       "      <td>4.977</td>\n",
       "      <td>-10.000</td>\n",
       "      <td>1.000</td>\n",
       "      <td>2.000</td>\n",
       "      <td>5.000</td>\n",
       "      <td>480.000</td>\n",
       "      <td>12.032</td>\n",
       "    </tr>\n",
       "    <tr>\n",
       "      <th>rev</th>\n",
       "      <td>6266.000</td>\n",
       "      <td>1516.742</td>\n",
       "      <td>-2840.000</td>\n",
       "      <td>309.120</td>\n",
       "      <td>608.000</td>\n",
       "      <td>1416.800</td>\n",
       "      <td>129600.000</td>\n",
       "      <td>3656.018</td>\n",
       "    </tr>\n",
       "  </tbody>\n",
       "</table>\n",
       "</div>"
      ],
      "text/plain": [
       "              count                           mean                  min  \\\n",
       "order_date     6266  2019-10-25 14:41:47.245451776  2019-08-01 00:00:00   \n",
       "order_id   6266.000                 2033481666.114       2030503854.000   \n",
       "material   6266.000                  600968000.000        600968000.000   \n",
       "inv_qty    6266.000                          4.977              -10.000   \n",
       "rev        6266.000                       1516.742            -2840.000   \n",
       "\n",
       "                            25%                  50%                  75%  \\\n",
       "order_date  2019-09-10 00:00:00  2019-10-24 00:00:00  2019-12-07 18:00:00   \n",
       "order_id         2032670610.000       2033551534.500       2034284473.000   \n",
       "material          600968000.000        600968000.000        600968000.000   \n",
       "inv_qty                   1.000                2.000                5.000   \n",
       "rev                     309.120              608.000             1416.800   \n",
       "\n",
       "                            max        std  \n",
       "order_date  2020-01-31 00:00:00        NaN  \n",
       "order_id         2035018112.000 939013.079  \n",
       "material          600968000.000      0.000  \n",
       "inv_qty                 480.000     12.032  \n",
       "rev                  129600.000   3656.018  "
      ]
     },
     "execution_count": 13,
     "metadata": {},
     "output_type": "execute_result"
    }
   ],
   "source": [
    "df[df['material'] == 600968000].describe().transpose()"
   ]
  },
  {
   "cell_type": "markdown",
   "id": "641a6009",
   "metadata": {},
   "source": [
    "Похоже, что первоначальное предположение оказалось верным. Столбец `inv_qty` отвечает за количество единиц товара в чеке, `rev` за общую сумму по данной позиции. Отрицательные значения, наиболее вероятно, означают возвраты. Количество их относительно общего незначительно и мы можем избавиться от этих данных, исходя из предположения что возвраты не повлияют на анализ основных и сопутствующих товаров."
   ]
  },
  {
   "cell_type": "code",
   "execution_count": 14,
   "id": "3c25deda",
   "metadata": {},
   "outputs": [],
   "source": [
    "df.drop(index=df[df['order_id'].isin(df.query('inv_qty <= 0 | rev < 0')['order_id'].unique())].index, inplace=True)\n",
    "df.reset_index(drop=True, inplace=True)"
   ]
  },
  {
   "cell_type": "markdown",
   "id": "ef7fdd8a",
   "metadata": {},
   "source": [
    "Также интересен ряд товаров, с нулевой стоимостью, но неотрицательным количеством."
   ]
  },
  {
   "cell_type": "code",
   "execution_count": 15,
   "id": "a25869ca",
   "metadata": {},
   "outputs": [
    {
     "data": {
      "text/html": [
       "<div>\n",
       "<style scoped>\n",
       "    .dataframe tbody tr th:only-of-type {\n",
       "        vertical-align: middle;\n",
       "    }\n",
       "\n",
       "    .dataframe tbody tr th {\n",
       "        vertical-align: top;\n",
       "    }\n",
       "\n",
       "    .dataframe thead th {\n",
       "        text-align: right;\n",
       "    }\n",
       "</style>\n",
       "<table border=\"1\" class=\"dataframe\">\n",
       "  <thead>\n",
       "    <tr style=\"text-align: right;\">\n",
       "      <th></th>\n",
       "      <th>count</th>\n",
       "      <th>mean</th>\n",
       "      <th>min</th>\n",
       "      <th>25%</th>\n",
       "      <th>50%</th>\n",
       "      <th>75%</th>\n",
       "      <th>max</th>\n",
       "      <th>std</th>\n",
       "    </tr>\n",
       "  </thead>\n",
       "  <tbody>\n",
       "    <tr>\n",
       "      <th>order_date</th>\n",
       "      <td>19175</td>\n",
       "      <td>2019-10-23 02:28:50.628422400</td>\n",
       "      <td>2019-08-01 00:00:00</td>\n",
       "      <td>2019-09-08 00:00:00</td>\n",
       "      <td>2019-10-18 00:00:00</td>\n",
       "      <td>2019-12-06 00:00:00</td>\n",
       "      <td>2020-01-31 00:00:00</td>\n",
       "      <td>NaN</td>\n",
       "    </tr>\n",
       "    <tr>\n",
       "      <th>order_id</th>\n",
       "      <td>19175.000</td>\n",
       "      <td>2017580482.393</td>\n",
       "      <td>1008984447.000</td>\n",
       "      <td>2032580862.000</td>\n",
       "      <td>2033416965.000</td>\n",
       "      <td>2034244566.000</td>\n",
       "      <td>2035015372.000</td>\n",
       "      <td>126339036.805</td>\n",
       "    </tr>\n",
       "    <tr>\n",
       "      <th>material</th>\n",
       "      <td>19175.000</td>\n",
       "      <td>5727911091.246</td>\n",
       "      <td>54001.000</td>\n",
       "      <td>3300053000.000</td>\n",
       "      <td>7200859000.000</td>\n",
       "      <td>7200859000.000</td>\n",
       "      <td>9900999009.000</td>\n",
       "      <td>2212483508.215</td>\n",
       "    </tr>\n",
       "    <tr>\n",
       "      <th>inv_qty</th>\n",
       "      <td>19175.000</td>\n",
       "      <td>3.297</td>\n",
       "      <td>0.001</td>\n",
       "      <td>1.000</td>\n",
       "      <td>1.000</td>\n",
       "      <td>1.000</td>\n",
       "      <td>1386.790</td>\n",
       "      <td>26.677</td>\n",
       "    </tr>\n",
       "    <tr>\n",
       "      <th>rev</th>\n",
       "      <td>19175.000</td>\n",
       "      <td>0.000</td>\n",
       "      <td>0.000</td>\n",
       "      <td>0.000</td>\n",
       "      <td>0.000</td>\n",
       "      <td>0.000</td>\n",
       "      <td>0.000</td>\n",
       "      <td>0.000</td>\n",
       "    </tr>\n",
       "  </tbody>\n",
       "</table>\n",
       "</div>"
      ],
      "text/plain": [
       "               count                           mean                  min  \\\n",
       "order_date     19175  2019-10-23 02:28:50.628422400  2019-08-01 00:00:00   \n",
       "order_id   19175.000                 2017580482.393       1008984447.000   \n",
       "material   19175.000                 5727911091.246            54001.000   \n",
       "inv_qty    19175.000                          3.297                0.001   \n",
       "rev        19175.000                          0.000                0.000   \n",
       "\n",
       "                            25%                  50%                  75%  \\\n",
       "order_date  2019-09-08 00:00:00  2019-10-18 00:00:00  2019-12-06 00:00:00   \n",
       "order_id         2032580862.000       2033416965.000       2034244566.000   \n",
       "material         3300053000.000       7200859000.000       7200859000.000   \n",
       "inv_qty                   1.000                1.000                1.000   \n",
       "rev                       0.000                0.000                0.000   \n",
       "\n",
       "                            max            std  \n",
       "order_date  2020-01-31 00:00:00            NaN  \n",
       "order_id         2035015372.000  126339036.805  \n",
       "material         9900999009.000 2212483508.215  \n",
       "inv_qty                1386.790         26.677  \n",
       "rev                       0.000          0.000  "
      ]
     },
     "execution_count": 15,
     "metadata": {},
     "output_type": "execute_result"
    }
   ],
   "source": [
    "data = df.query('inv_qty > 0 & rev == 0')\n",
    "data.describe().transpose()"
   ]
  },
  {
   "cell_type": "markdown",
   "id": "b2929818",
   "metadata": {},
   "source": [
    "Всего 19175 позиций, количеством от 0 до 1387. Посмотрим на самые частые значения."
   ]
  },
  {
   "cell_type": "code",
   "execution_count": 16,
   "id": "b1fa27ab",
   "metadata": {},
   "outputs": [
    {
     "data": {
      "text/plain": [
       "material\n",
       "7200859000    12215\n",
       "2700223000     1346\n",
       "2100736000      753\n",
       "2100828000      640\n",
       "2500288003      447\n",
       "              ...  \n",
       "8300078000        1\n",
       "2100504001        1\n",
       "3800397000        1\n",
       "2500714000        1\n",
       "1100246000        1\n",
       "Name: count, Length: 846, dtype: int64"
      ]
     },
     "execution_count": 16,
     "metadata": {},
     "output_type": "execute_result"
    }
   ],
   "source": [
    "data['material'].value_counts()"
   ]
  },
  {
   "cell_type": "markdown",
   "id": "5150ae7b",
   "metadata": {},
   "source": [
    "Можно предположить, что товар `7200859000` это подарочная/скидочная карта, или же так проводится по базе карта постоянного покупателя. В целом, данный список можно считать первым приближением на сопутствующие товары, т.к. кроме подарочных карт, с большой долей вероятности, сюда попала всякая мелочовка и ходовые, но недорогие товары.\n",
    "\n",
    "Заказы с бесплатными бонусами целесообразно оставить."
   ]
  },
  {
   "cell_type": "markdown",
   "id": "5bb360a0",
   "metadata": {},
   "source": [
    "## Формирование списков товаров\n",
    "\n",
    "### Основные товары"
   ]
  },
  {
   "cell_type": "markdown",
   "id": "2f118acf",
   "metadata": {},
   "source": [
    "В соответствии с выбранной гипотезой, отберём основные товары, как товары с максимальной стоимостью в чеках, где больше одного товара.\n",
    "\n",
    "Также зададимся частотой появления таких товаров в чеке, т.к. магазин тратится на место для раскладки и саму раскладку сопутствующих товаров вокруг основных. Для примера зададимся порогом в 10% наиболее часто встречающихся."
   ]
  },
  {
   "cell_type": "code",
   "execution_count": 17,
   "id": "4f73ddea",
   "metadata": {},
   "outputs": [],
   "source": [
    "def get_main_list(data: pd.DataFrame = df, subset: int = None, threshold: int = 10) -> list:\n",
    "    \"\"\"\n",
    "    Filters most expensive materials if there is more than one in bill and total appearance is more than threshold.\n",
    "    \"\"\"\n",
    "    if subset:\n",
    "        data = data[data['org'] == subset]\n",
    "    counts = data.groupby('order_id').count()\n",
    "    data = data[data['order_id'].isin(counts[counts['material'] > 1].index)]\n",
    "    data = Counter(list(data.groupby('order_id').max('rev')['material']))\n",
    "    threshold = np.quantile(list(data.values()), (100 - threshold) / 100)\n",
    "    data = {material: count for material, count in data.items() if count >= threshold}\n",
    "    most_expensive = list(data.keys())\n",
    "    return most_expensive"
   ]
  },
  {
   "cell_type": "code",
   "execution_count": 18,
   "id": "ca248a25",
   "metadata": {},
   "outputs": [],
   "source": [
    "main_list_full = get_main_list()\n",
    "list_full = list(set(df['material']))"
   ]
  },
  {
   "cell_type": "code",
   "execution_count": 19,
   "id": "438934d4",
   "metadata": {},
   "outputs": [
    {
     "name": "stdout",
     "output_type": "stream",
     "text": [
      "Количество товаров отнесённых к основным: 1316\n",
      "Общее количество товаров доступных для анализа: 21405\n"
     ]
    }
   ],
   "source": [
    "print('Количество товаров отнесённых к основным:', len(main_list_full))\n",
    "print('Общее количество товаров доступных для анализа:', len(list_full))"
   ]
  },
  {
   "cell_type": "markdown",
   "id": "0ec40805",
   "metadata": {},
   "source": [
    "Также посмотрим на списки основных товаров по разным городам."
   ]
  },
  {
   "cell_type": "code",
   "execution_count": 20,
   "id": "c4c69158",
   "metadata": {},
   "outputs": [
    {
     "name": "stdout",
     "output_type": "stream",
     "text": [
      "Количество товаров отнесённых к основным в городе 1000: 1115\n",
      "Общее количество товаров доступных для анализа в городе 1000: 16857\n",
      "\n",
      "Количество товаров отнесённых к основным в городе 2000: 787\n",
      "Общее количество товаров доступных для анализа в городе 2000: 11889\n",
      "\n",
      "Количество товаров отнесённых к основным в городе 3000: 701\n",
      "Общее количество товаров доступных для анализа в городе 3000: 11365\n",
      "\n",
      "Количество товаров отнесённых к основным в городе 4001: 442\n",
      "Общее количество товаров доступных для анализа в городе 4001: 7202\n",
      "\n",
      "Количество товаров отнесённых к основным в городе 7000: 72\n",
      "Общее количество товаров доступных для анализа в городе 7000: 3973\n",
      "\n",
      "CPU times: total: 3.28 s\n",
      "Wall time: 3.3 s\n"
     ]
    }
   ],
   "source": [
    "%%time\n",
    "for city in list(df.org.unique()):\n",
    "    globals()[f'main_list_{city}'] = get_main_list(subset=city)\n",
    "    globals()[f'list_{city}'] = list(set(df[df['org'] == city]['material']))\n",
    "    print(f'Количество товаров отнесённых к основным в городе {city}:', len(globals()[f'main_list_{city}']))\n",
    "    print(f'Общее количество товаров доступных для анализа в городе {city}:', len(globals()[f'list_{city}']))\n",
    "    print()"
   ]
  },
  {
   "cell_type": "markdown",
   "id": "89a7e4da",
   "metadata": {},
   "source": [
    "Мы получили списки основных товаров для всех магазинов и для каждого в частности. В некоторых случаях в эти списки попало больше товаров, где-то только малая часть, в зависимости от общего размера ассортимента магазина. Чем больше в магазине представлено товаров в целом, тем больше в них часть основных. В среднем по всем данным у нас получилось что основными мы считаем 6,12% товаров."
   ]
  },
  {
   "cell_type": "markdown",
   "id": "a8aa9623",
   "metadata": {},
   "source": [
    "### Сопутствующие товары"
   ]
  },
  {
   "cell_type": "markdown",
   "id": "7ae51409",
   "metadata": {},
   "source": [
    "Как мы предположили в нашей гипотезе, мы будем искать товары которые не являются самыми дорогими в соответствующих чеках и попробуем отобрать самые часто встречающиеся из них. Зададимся попрогом в 5 сопутствующих товаров на каждый основной."
   ]
  },
  {
   "cell_type": "code",
   "execution_count": 21,
   "id": "d2b63097",
   "metadata": {},
   "outputs": [],
   "source": [
    "def get_acc_list(data: pd.DataFrame = df, subset: int = None,\n",
    "                 main_list: list = main_list_full, N: int = 5) -> list:\n",
    "    \"\"\"\n",
    "    For every main product find top N most frequent accompanying products and gather them to list.\n",
    "    \"\"\"\n",
    "    if subset:\n",
    "        data = data[data['org'] == subset]\n",
    "        main_list = globals()[f'main_list_{subset}']\n",
    "    result = set()\n",
    "    for main_material in main_list:\n",
    "        bill_list = list(data[data['material'] == main_material]['order_id'].unique())\n",
    "        bill_data = data[data['order_id'].isin(bill_list)]\n",
    "        bill_data = bill_data[~bill_data['material'].isin(main_list)]\n",
    "        most_common = Counter(list(bill_data['material'])).most_common(N)\n",
    "        most_common = set([_[0] for _ in most_common])\n",
    "        result.update(most_common)\n",
    "    return list(result)"
   ]
  },
  {
   "cell_type": "code",
   "execution_count": 22,
   "id": "b98b9350",
   "metadata": {},
   "outputs": [
    {
     "name": "stdout",
     "output_type": "stream",
     "text": [
      "Количество товаров отнесённых к основным 1316\n",
      "Количество товаров отнесённых к сопутствующим: 1274\n",
      "Общее количество товаров доступных для анализа: 21405\n",
      "CPU times: total: 1min 40s\n",
      "Wall time: 1min 40s\n"
     ]
    }
   ],
   "source": [
    "%%time\n",
    "acc_list_full = get_acc_list()\n",
    "print('Количество товаров отнесённых к основным', len(main_list_full))\n",
    "print('Количество товаров отнесённых к сопутствующим:', len(acc_list_full))\n",
    "print('Общее количество товаров доступных для анализа:', len(list_full))"
   ]
  },
  {
   "cell_type": "markdown",
   "id": "191fd1bc",
   "metadata": {},
   "source": [
    "Также посмотрим на списки товаров по отдельным городам."
   ]
  },
  {
   "cell_type": "code",
   "execution_count": 23,
   "id": "48f6c94c",
   "metadata": {},
   "outputs": [
    {
     "name": "stdout",
     "output_type": "stream",
     "text": [
      "Количество товаров отнесённых к основным в городе 1000: 1115\n",
      "Количество товаров отнесённых к сопутствующим в городе 1000: 1185\n",
      "Общее количество товаров доступных для анализа в городе 1000: 16857\n",
      "\n",
      "Количество товаров отнесённых к основным в городе 2000: 787\n",
      "Количество товаров отнесённых к сопутствующим в городе 2000: 891\n",
      "Общее количество товаров доступных для анализа в городе 2000: 11889\n",
      "\n",
      "Количество товаров отнесённых к основным в городе 3000: 701\n",
      "Количество товаров отнесённых к сопутствующим в городе 3000: 760\n",
      "Общее количество товаров доступных для анализа в городе 3000: 11365\n",
      "\n",
      "Количество товаров отнесённых к основным в городе 4001: 442\n",
      "Количество товаров отнесённых к сопутствующим в городе 4001: 723\n",
      "Общее количество товаров доступных для анализа в городе 4001: 7202\n",
      "\n",
      "Количество товаров отнесённых к основным в городе 7000: 72\n",
      "Количество товаров отнесённых к сопутствующим в городе 7000: 151\n",
      "Общее количество товаров доступных для анализа в городе 7000: 3973\n",
      "\n",
      "CPU times: total: 1min 18s\n",
      "Wall time: 1min 19s\n"
     ]
    }
   ],
   "source": [
    "%%time\n",
    "for city in list(df.org.unique()):\n",
    "    globals()[f'acc_list_{city}'] = get_acc_list(subset=city)\n",
    "    print(f'Количество товаров отнесённых к основным в городе {city}:', len(globals()[f'main_list_{city}']))\n",
    "    print(f'Количество товаров отнесённых к сопутствующим в городе {city}:', len(globals()[f'acc_list_{city}']))\n",
    "    print(f'Общее количество товаров доступных для анализа в городе {city}:', len(globals()[f'list_{city}']))\n",
    "    print()"
   ]
  },
  {
   "cell_type": "markdown",
   "id": "b4611677",
   "metadata": {},
   "source": [
    "## Заключение"
   ]
  },
  {
   "cell_type": "markdown",
   "id": "82e65c87",
   "metadata": {},
   "source": [
    "В соответствии с изначальными гипотезами были сформированы списки наиболее вероятных основных и дополнительных товаров.\n",
    "\n",
    "При необходимости полнота списков может быть отредактирована соответствующими настройками."
   ]
  },
  {
   "cell_type": "code",
   "execution_count": null,
   "id": "5ea0b4dd",
   "metadata": {},
   "outputs": [],
   "source": []
  }
 ],
 "metadata": {
  "kernelspec": {
   "display_name": "Python 3 (ipykernel)",
   "language": "python",
   "name": "python3"
  },
  "language_info": {
   "codemirror_mode": {
    "name": "ipython",
    "version": 3
   },
   "file_extension": ".py",
   "mimetype": "text/x-python",
   "name": "python",
   "nbconvert_exporter": "python",
   "pygments_lexer": "ipython3",
   "version": "3.11.4"
  }
 },
 "nbformat": 4,
 "nbformat_minor": 5
}
